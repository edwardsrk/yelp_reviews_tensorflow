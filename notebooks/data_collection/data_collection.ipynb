{
 "cells": [
  {
   "cell_type": "code",
   "execution_count": null,
   "id": "2f0175b9",
   "metadata": {},
   "outputs": [],
   "source": [
    "#raw_data_2 = pd.read_json('yelp_academic_dataset_review.json', lines = True)\n",
    "#read in json file line by line as pandas data frame"
   ]
  },
  {
   "cell_type": "code",
   "execution_count": null,
   "id": "50caa4ba",
   "metadata": {},
   "outputs": [],
   "source": [
    "#raw_data_2.head()\n",
    "#raw_data_2.shape\n",
    "#df_2 = raw_data_2[['text', 'stars']]\n",
    "#subset data into working df of only usefull info, text and star rating"
   ]
  },
  {
   "cell_type": "code",
   "execution_count": null,
   "id": "b56d9121",
   "metadata": {},
   "outputs": [],
   "source": [
    "#df_2.isna().sum()\n",
    "#check for missing values\n",
    "#none found"
   ]
  },
  {
   "cell_type": "code",
   "execution_count": null,
   "id": "7418ad04",
   "metadata": {},
   "outputs": [],
   "source": [
    "#df_2.head()\n",
    "#all_five_star_2 = df_2[df_2['stars'] == 5]\n",
    "#all_four_star_2 = df_2[df_2['stars'] == 4]\n",
    "#all_three_star_2 = df_2[df_2['stars'] == 3]\n",
    "#all_two_star_2 = df_2[df_2['stars'] == 2]\n",
    "#all_one_star_2 = df_2[df_2['stars'] == 1]\n",
    "#subset data further into categories based on star rating"
   ]
  },
  {
   "cell_type": "code",
   "execution_count": 1,
   "id": "5eba2294",
   "metadata": {},
   "outputs": [],
   "source": [
    "#len(all_five_star_2), len(all_four_star_2), len(all_two_star_2), len(all_one_star_2), len(all_three_star_2)\n",
    "#check length of each text subset"
   ]
  },
  {
   "cell_type": "code",
   "execution_count": 2,
   "id": "e3832a19",
   "metadata": {},
   "outputs": [],
   "source": [
    "#five_raw_4500 = all_five_star_2.head(4500)\n",
    "#four_raw_3000 = all_four_star_2.head(3000)\n",
    "#two_raw_1000 =all_two_star_2.head(1000)\n",
    "#one_raw_2000 = all_one_star_2.head(2000)\n",
    "#get workable sized data sets with bias adjust for onestart and 5star"
   ]
  },
  {
   "cell_type": "code",
   "execution_count": 3,
   "id": "cc3662d7",
   "metadata": {},
   "outputs": [],
   "source": [
    "#dfs_2 = [four_raw_3000, five_raw_4500]\n",
    "#pos_2 = pd.concat(dfs_2)\n",
    "#concast four and five star for positive tagged set"
   ]
  },
  {
   "cell_type": "code",
   "execution_count": 4,
   "id": "8e1948a2",
   "metadata": {},
   "outputs": [],
   "source": [
    "#pos_2['stars'].unique()\n",
    "#check split went well"
   ]
  },
  {
   "cell_type": "code",
   "execution_count": 5,
   "id": "3b12d8ea",
   "metadata": {},
   "outputs": [],
   "source": [
    "#dfss_2 = [one_raw_2000, two_raw_1000]\n",
    "#neg_2 = pd.concat(dfss_2)\n",
    "#concat 1 and two str for negative tagged set"
   ]
  },
  {
   "cell_type": "code",
   "execution_count": 6,
   "id": "b4e2cf88",
   "metadata": {},
   "outputs": [],
   "source": [
    "#neg_2['stars'].unique("
   ]
  },
  {
   "cell_type": "code",
   "execution_count": 7,
   "id": "870e90ff",
   "metadata": {},
   "outputs": [],
   "source": [
    "#neg['value'] = neg[(neg['stars'] == 1) | (neg['stars'] == 2), neg['value'] = 'neg']\n",
    "#neg_list = []\n",
    "#pos_list = []\n",
    "#for i in range(0,len(neg)):\n",
    "#    neg_list.append('neg')\n",
    "#    pos_list.append('pos')\n",
    "#use a for loop to create a list of lenght equal to 5000, lenght of eahc set of tagged data"
   ]
  },
  {
   "cell_type": "code",
   "execution_count": 8,
   "id": "3ae0d859",
   "metadata": {},
   "outputs": [],
   "source": [
    "#neg_list_2 = []\n",
    "#for i in range(0,len(neg_2)):\n",
    "#    neg_list_2.append('neg')\n",
    "#use a for loop to create a list of lenght equal to 5000, lenght of eahc set of tagged data"
   ]
  },
  {
   "cell_type": "code",
   "execution_count": 9,
   "id": "ac5caa8e",
   "metadata": {},
   "outputs": [],
   "source": [
    "#pos_list_2 = []\n",
    "#for i in range(0,len(pos_2)):\n",
    "#    pos_list_2.append('pos')"
   ]
  },
  {
   "cell_type": "code",
   "execution_count": 10,
   "id": "a08eda3a",
   "metadata": {},
   "outputs": [],
   "source": [
    "#len(neg_list_2)\n",
    "#check doc length"
   ]
  },
  {
   "cell_type": "code",
   "execution_count": 11,
   "id": "2d60dcfb",
   "metadata": {},
   "outputs": [],
   "source": [
    "#neg_2['value'] = neg_list_2\n",
    "#pos_2['value'] = pos_list_2\n",
    "#add new column to df to represent data tag"
   ]
  },
  {
   "cell_type": "code",
   "execution_count": 12,
   "id": "f9675303",
   "metadata": {},
   "outputs": [],
   "source": [
    "#neg_2.head()"
   ]
  },
  {
   "cell_type": "code",
   "execution_count": 13,
   "id": "a0db92a9",
   "metadata": {},
   "outputs": [],
   "source": [
    "#neg_raw_2 = neg_2.drop('stars', axis =1)\n",
    "#pos_raw_2 = pos_2.drop('stars', axis =1)\n",
    "#drop stars column as no longer useful "
   ]
  },
  {
   "cell_type": "code",
   "execution_count": 14,
   "id": "8e760794",
   "metadata": {},
   "outputs": [],
   "source": [
    "\n",
    "#neg_raw_list_2 = neg_raw_2['text'].tolist()\n",
    "#pos_raw_list_2 = pos_raw_2['text'].tolist()\n",
    "#move data out of df and into list"
   ]
  },
  {
   "cell_type": "code",
   "execution_count": 15,
   "id": "3909aec7",
   "metadata": {},
   "outputs": [],
   "source": [
    "#neg_list_1_2 = [review.replace('\\n', '') for review in neg_raw_list_2]\n",
    "#pos_list_1_2 = [review.replace('\\n', '') for review in pos_raw_list_2]\n",
    "#get rid of newline chars\n"
   ]
  },
  {
   "cell_type": "code",
   "execution_count": 16,
   "id": "da8f031c",
   "metadata": {},
   "outputs": [],
   "source": [
    "#with open('neg_raw_list_2.txt', 'w', encoding=\"utf-8\") as filehandle:\n",
    "#    filehandle.writelines(\"{}\\n\".format(review) for review in neg_list_1_2)\n",
    "#open file to write processed data for negs"
   ]
  },
  {
   "cell_type": "code",
   "execution_count": null,
   "id": "fc3cf19a",
   "metadata": {},
   "outputs": [],
   "source": [
    "#with open('pos_raw_list_2.txt', 'w', encoding=\"utf-8\") as filehandle:\n",
    "#    filehandle.writelines(\"{}\\n\".format(review) for review in pos_list_1_2)\n",
    "#open file to write processed data for pos"
   ]
  }
 ],
 "metadata": {
  "kernelspec": {
   "display_name": "yelp_env",
   "language": "python",
   "name": "yelp_env"
  },
  "language_info": {
   "codemirror_mode": {
    "name": "ipython",
    "version": 3
   },
   "file_extension": ".py",
   "mimetype": "text/x-python",
   "name": "python",
   "nbconvert_exporter": "python",
   "pygments_lexer": "ipython3",
   "version": "3.9.2"
  }
 },
 "nbformat": 4,
 "nbformat_minor": 5
}
