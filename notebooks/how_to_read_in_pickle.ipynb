{
 "cells": [
  {
   "cell_type": "code",
   "execution_count": 1,
   "metadata": {},
   "outputs": [],
   "source": [
    "import pickle"
   ]
  },
  {
   "cell_type": "code",
   "execution_count": 7,
   "metadata": {},
   "outputs": [],
   "source": [
    "with open ('./data/pickles/40k_sample.p', \"rb\") as readfile: \n",
    "    X, y = pickle.load(readfile)"
   ]
  },
  {
   "cell_type": "code",
   "execution_count": 8,
   "metadata": {},
   "outputs": [
    {
     "data": {
      "text/html": [
       "<div>\n",
       "<style scoped>\n",
       "    .dataframe tbody tr th:only-of-type {\n",
       "        vertical-align: middle;\n",
       "    }\n",
       "\n",
       "    .dataframe tbody tr th {\n",
       "        vertical-align: top;\n",
       "    }\n",
       "\n",
       "    .dataframe thead th {\n",
       "        text-align: right;\n",
       "    }\n",
       "</style>\n",
       "<table border=\"1\" class=\"dataframe\">\n",
       "  <thead>\n",
       "    <tr style=\"text-align: right;\">\n",
       "      <th></th>\n",
       "      <th>text</th>\n",
       "    </tr>\n",
       "  </thead>\n",
       "  <tbody>\n",
       "    <tr>\n",
       "      <th>7935619</th>\n",
       "      <td>Chips and salsa were awesome! Taco bowl was am...</td>\n",
       "    </tr>\n",
       "    <tr>\n",
       "      <th>6261538</th>\n",
       "      <td>When you take acrylic nails off, your suppose ...</td>\n",
       "    </tr>\n",
       "    <tr>\n",
       "      <th>1261782</th>\n",
       "      <td>One of the best places for Turkish food in the...</td>\n",
       "    </tr>\n",
       "    <tr>\n",
       "      <th>7802386</th>\n",
       "      <td>So difficult to book appointments with. They r...</td>\n",
       "    </tr>\n",
       "    <tr>\n",
       "      <th>6792587</th>\n",
       "      <td>Scheduled a \"do what you gotta do\" massage wit...</td>\n",
       "    </tr>\n",
       "    <tr>\n",
       "      <th>...</th>\n",
       "      <td>...</td>\n",
       "    </tr>\n",
       "    <tr>\n",
       "      <th>3645263</th>\n",
       "      <td>Very good car wash by hand then wax by hand pr...</td>\n",
       "    </tr>\n",
       "    <tr>\n",
       "      <th>4730304</th>\n",
       "      <td>Expensive for what you get. I got a Mediterran...</td>\n",
       "    </tr>\n",
       "    <tr>\n",
       "      <th>1911662</th>\n",
       "      <td>What a fantastic place! I have stayed in the M...</td>\n",
       "    </tr>\n",
       "    <tr>\n",
       "      <th>7480720</th>\n",
       "      <td>Foods are ok, the services suck, the waitress ...</td>\n",
       "    </tr>\n",
       "    <tr>\n",
       "      <th>6713090</th>\n",
       "      <td>I had salami &amp; eggs and B had buckwheat pancak...</td>\n",
       "    </tr>\n",
       "  </tbody>\n",
       "</table>\n",
       "<p>40106 rows × 1 columns</p>\n",
       "</div>"
      ],
      "text/plain": [
       "                                                      text\n",
       "7935619  Chips and salsa were awesome! Taco bowl was am...\n",
       "6261538  When you take acrylic nails off, your suppose ...\n",
       "1261782  One of the best places for Turkish food in the...\n",
       "7802386  So difficult to book appointments with. They r...\n",
       "6792587  Scheduled a \"do what you gotta do\" massage wit...\n",
       "...                                                    ...\n",
       "3645263  Very good car wash by hand then wax by hand pr...\n",
       "4730304  Expensive for what you get. I got a Mediterran...\n",
       "1911662  What a fantastic place! I have stayed in the M...\n",
       "7480720  Foods are ok, the services suck, the waitress ...\n",
       "6713090  I had salami & eggs and B had buckwheat pancak...\n",
       "\n",
       "[40106 rows x 1 columns]"
      ]
     },
     "execution_count": 8,
     "metadata": {},
     "output_type": "execute_result"
    }
   ],
   "source": [
    "X"
   ]
  },
  {
   "cell_type": "code",
   "execution_count": 10,
   "metadata": {},
   "outputs": [
    {
     "data": {
      "text/plain": [
       "7935619    4\n",
       "6261538    1\n",
       "1261782    5\n",
       "7802386    2\n",
       "6792587    5\n",
       "          ..\n",
       "3645263    4\n",
       "4730304    1\n",
       "1911662    5\n",
       "7480720    1\n",
       "6713090    5\n",
       "Name: stars, Length: 40106, dtype: int64"
      ]
     },
     "execution_count": 10,
     "metadata": {},
     "output_type": "execute_result"
    }
   ],
   "source": [
    "y"
   ]
  },
  {
   "cell_type": "code",
   "execution_count": 11,
   "metadata": {},
   "outputs": [],
   "source": [
    "df = X.copy()"
   ]
  },
  {
   "cell_type": "code",
   "execution_count": 12,
   "metadata": {},
   "outputs": [],
   "source": [
    "df['stars'] = y"
   ]
  },
  {
   "cell_type": "code",
   "execution_count": 13,
   "metadata": {},
   "outputs": [
    {
     "data": {
      "text/html": [
       "<div>\n",
       "<style scoped>\n",
       "    .dataframe tbody tr th:only-of-type {\n",
       "        vertical-align: middle;\n",
       "    }\n",
       "\n",
       "    .dataframe tbody tr th {\n",
       "        vertical-align: top;\n",
       "    }\n",
       "\n",
       "    .dataframe thead th {\n",
       "        text-align: right;\n",
       "    }\n",
       "</style>\n",
       "<table border=\"1\" class=\"dataframe\">\n",
       "  <thead>\n",
       "    <tr style=\"text-align: right;\">\n",
       "      <th></th>\n",
       "      <th>text</th>\n",
       "      <th>stars</th>\n",
       "    </tr>\n",
       "  </thead>\n",
       "  <tbody>\n",
       "    <tr>\n",
       "      <th>7935619</th>\n",
       "      <td>Chips and salsa were awesome! Taco bowl was am...</td>\n",
       "      <td>4</td>\n",
       "    </tr>\n",
       "    <tr>\n",
       "      <th>6261538</th>\n",
       "      <td>When you take acrylic nails off, your suppose ...</td>\n",
       "      <td>1</td>\n",
       "    </tr>\n",
       "    <tr>\n",
       "      <th>1261782</th>\n",
       "      <td>One of the best places for Turkish food in the...</td>\n",
       "      <td>5</td>\n",
       "    </tr>\n",
       "    <tr>\n",
       "      <th>7802386</th>\n",
       "      <td>So difficult to book appointments with. They r...</td>\n",
       "      <td>2</td>\n",
       "    </tr>\n",
       "    <tr>\n",
       "      <th>6792587</th>\n",
       "      <td>Scheduled a \"do what you gotta do\" massage wit...</td>\n",
       "      <td>5</td>\n",
       "    </tr>\n",
       "  </tbody>\n",
       "</table>\n",
       "</div>"
      ],
      "text/plain": [
       "                                                      text  stars\n",
       "7935619  Chips and salsa were awesome! Taco bowl was am...      4\n",
       "6261538  When you take acrylic nails off, your suppose ...      1\n",
       "1261782  One of the best places for Turkish food in the...      5\n",
       "7802386  So difficult to book appointments with. They r...      2\n",
       "6792587  Scheduled a \"do what you gotta do\" massage wit...      5"
      ]
     },
     "execution_count": 13,
     "metadata": {},
     "output_type": "execute_result"
    }
   ],
   "source": [
    "df.head()"
   ]
  },
  {
   "cell_type": "code",
   "execution_count": 14,
   "metadata": {},
   "outputs": [],
   "source": [
    "df = df[df['stars'] != 3]"
   ]
  },
  {
   "cell_type": "code",
   "execution_count": 17,
   "metadata": {},
   "outputs": [],
   "source": [
    "def num_to_cat(star):\n",
    "    if star == 4 or star == 5:\n",
    "        return 'pos'\n",
    "    else:\n",
    "        return 'neg'"
   ]
  },
  {
   "cell_type": "code",
   "execution_count": 18,
   "metadata": {},
   "outputs": [
    {
     "data": {
      "text/plain": [
       "7935619    pos\n",
       "6261538    neg\n",
       "1261782    pos\n",
       "7802386    neg\n",
       "6792587    pos\n",
       "          ... \n",
       "3645263    pos\n",
       "4730304    neg\n",
       "1911662    pos\n",
       "7480720    neg\n",
       "6713090    pos\n",
       "Name: stars, Length: 35894, dtype: object"
      ]
     },
     "execution_count": 18,
     "metadata": {},
     "output_type": "execute_result"
    }
   ],
   "source": [
    "df.stars.apply(num_to_cat)"
   ]
  },
  {
   "cell_type": "code",
   "execution_count": null,
   "metadata": {},
   "outputs": [],
   "source": []
  }
 ],
 "metadata": {
  "kernelspec": {
   "display_name": "learn-env",
   "language": "python",
   "name": "learn-env"
  },
  "language_info": {
   "codemirror_mode": {
    "name": "ipython",
    "version": 3
   },
   "file_extension": ".py",
   "mimetype": "text/x-python",
   "name": "python",
   "nbconvert_exporter": "python",
   "pygments_lexer": "ipython3",
   "version": "3.8.5"
  }
 },
 "nbformat": 4,
 "nbformat_minor": 4
}
