{
 "cells": [
  {
   "cell_type": "code",
   "execution_count": 1,
   "metadata": {},
   "outputs": [],
   "source": [
    "import json\n",
    "\n",
    "def get_keys(path):\n",
    "    with open(path) as f:\n",
    "        return json.load(f)"
   ]
  },
  {
   "cell_type": "code",
   "execution_count": 2,
   "metadata": {},
   "outputs": [],
   "source": [
    "keys = get_keys(\"C:/Users/edwardsrk/.secret/yelp_api.json\")\n",
    "\n",
    "api_key = keys['api_key']"
   ]
  },
  {
   "cell_type": "code",
   "execution_count": 4,
   "metadata": {},
   "outputs": [
    {
     "name": "stdout",
     "output_type": "stream",
     "text": [
      "<Response [200]>\n",
      "<class 'str'>\n",
      "{\"businesses\": [{\"id\": \"LDsQvhA_cuYZE7EFxVvOnA\", \"alias\": \"wann-yen-seattle\", \"name\": \"Wann Yen\", \"image_url\": \"https://s3-media1.fl.yelpcdn.com/bphoto/Ix-Z7hsQOwx_8NybyqGbig/o.jpg\", \"is_closed\": false, \"url\": \"https://www.yelp.com/biz/wann-yen-seattle?adjust_creative=RsQBbR9xlqwC8t3MVtGnTg&utm_campaign=yelp_api_v3&utm_medium=api_v3_business_search&utm_source=RsQBbR9xlqwC8t3MVtGnTg\", \"review_count\": 143, \"categories\": [{\"alias\": \"desserts\", \"title\": \"Desserts\"}, {\"alias\": \"thai\", \"title\": \"Thai\"}, {\"alias\": \"comfortfood\", \"title\": \"Comfort Food\"}], \"rating\": 4.5, \"coordinates\": {\"latitude\": 47.65969, \"longitude\": -122.31346}, \"transactions\": [], \"price\": \"$\", \"location\": {\"address1\": \"1313 NE 43rd St\", \"address2\": \"\", \"address3\": \"\", \"city\": \"Seattle\", \"zip_code\": \"98105\", \"country\": \"US\", \"state\": \"WA\", \"display_address\": [\"1313 NE 43rd St\", \"Seattle, WA 98105\"]}, \"phone\": \"+12064325902\", \"display_phone\": \"(206) 432-5902\", \"distance\": 4147.668325147945}, {\"id\": \"vh0UjgDhqJgK1yRacgpRzQ\n"
     ]
    }
   ],
   "source": [
    "import requests\n",
    "term = 'rstaurants'\n",
    "location = 'Seattle WA'\n",
    "SEARCH_LIMIT = 10\n",
    "\n",
    "url = 'https://api.yelp.com/v3/businesses/search'\n",
    "\n",
    "headers = {\n",
    "        'Authorization': 'Bearer {}'.format(api_key),\n",
    "    }\n",
    "\n",
    "url_params = {\n",
    "                'term': term.replace(' ', '+'),\n",
    "                'location': location.replace(' ', '+'),\n",
    "                'limit': SEARCH_LIMIT\n",
    "            }\n",
    "response = requests.get(url, headers=headers, params=url_params)\n",
    "print(response)\n",
    "print(type(response.text))\n",
    "print(response.text[:1000])"
   ]
  },
  {
   "cell_type": "code",
   "execution_count": 5,
   "metadata": {},
   "outputs": [
    {
     "name": "stdout",
     "output_type": "stream",
     "text": [
      "4\n",
      "Index(['id', 'alias', 'name', 'image_url', 'is_closed', 'url', 'review_count',\n",
      "       'categories', 'rating', 'coordinates', 'transactions', 'price',\n",
      "       'location', 'phone', 'display_phone', 'distance'],\n",
      "      dtype='object')\n"
     ]
    },
    {
     "data": {
      "text/html": [
       "<div>\n",
       "<style scoped>\n",
       "    .dataframe tbody tr th:only-of-type {\n",
       "        vertical-align: middle;\n",
       "    }\n",
       "\n",
       "    .dataframe tbody tr th {\n",
       "        vertical-align: top;\n",
       "    }\n",
       "\n",
       "    .dataframe thead th {\n",
       "        text-align: right;\n",
       "    }\n",
       "</style>\n",
       "<table border=\"1\" class=\"dataframe\">\n",
       "  <thead>\n",
       "    <tr style=\"text-align: right;\">\n",
       "      <th></th>\n",
       "      <th>id</th>\n",
       "      <th>alias</th>\n",
       "      <th>name</th>\n",
       "      <th>image_url</th>\n",
       "      <th>is_closed</th>\n",
       "      <th>url</th>\n",
       "      <th>review_count</th>\n",
       "      <th>categories</th>\n",
       "      <th>rating</th>\n",
       "      <th>coordinates</th>\n",
       "      <th>transactions</th>\n",
       "      <th>price</th>\n",
       "      <th>location</th>\n",
       "      <th>phone</th>\n",
       "      <th>display_phone</th>\n",
       "      <th>distance</th>\n",
       "    </tr>\n",
       "  </thead>\n",
       "  <tbody>\n",
       "    <tr>\n",
       "      <th>0</th>\n",
       "      <td>LDsQvhA_cuYZE7EFxVvOnA</td>\n",
       "      <td>wann-yen-seattle</td>\n",
       "      <td>Wann Yen</td>\n",
       "      <td>https://s3-media1.fl.yelpcdn.com/bphoto/Ix-Z7h...</td>\n",
       "      <td>False</td>\n",
       "      <td>https://www.yelp.com/biz/wann-yen-seattle?adju...</td>\n",
       "      <td>143</td>\n",
       "      <td>[{'alias': 'desserts', 'title': 'Desserts'}, {...</td>\n",
       "      <td>4.5</td>\n",
       "      <td>{'latitude': 47.65969, 'longitude': -122.31346}</td>\n",
       "      <td>[]</td>\n",
       "      <td>$</td>\n",
       "      <td>{'address1': '1313 NE 43rd St', 'address2': ''...</td>\n",
       "      <td>+12064325902</td>\n",
       "      <td>(206) 432-5902</td>\n",
       "      <td>4147.668325</td>\n",
       "    </tr>\n",
       "    <tr>\n",
       "      <th>1</th>\n",
       "      <td>vh0UjgDhqJgK1yRacgpRzQ</td>\n",
       "      <td>todo-mexico-shoreline</td>\n",
       "      <td>Todo Mexico</td>\n",
       "      <td>https://s3-media4.fl.yelpcdn.com/bphoto/GArHpq...</td>\n",
       "      <td>False</td>\n",
       "      <td>https://www.yelp.com/biz/todo-mexico-shoreline...</td>\n",
       "      <td>144</td>\n",
       "      <td>[{'alias': 'mexican', 'title': 'Mexican'}]</td>\n",
       "      <td>3.5</td>\n",
       "      <td>{'latitude': 47.77391, 'longitude': -122.30894}</td>\n",
       "      <td>[pickup, delivery]</td>\n",
       "      <td>$$</td>\n",
       "      <td>{'address1': '19953 Ballinger Way NE', 'addres...</td>\n",
       "      <td>+12063635051</td>\n",
       "      <td>(206) 363-5051</td>\n",
       "      <td>16631.635204</td>\n",
       "    </tr>\n",
       "    <tr>\n",
       "      <th>2</th>\n",
       "      <td>9YeSEzr8HZMCuQlAyr8FPw</td>\n",
       "      <td>thai-tom-seattle</td>\n",
       "      <td>Thai Tom</td>\n",
       "      <td>https://s3-media2.fl.yelpcdn.com/bphoto/XVx-o5...</td>\n",
       "      <td>False</td>\n",
       "      <td>https://www.yelp.com/biz/thai-tom-seattle?adju...</td>\n",
       "      <td>2231</td>\n",
       "      <td>[{'alias': 'thai', 'title': 'Thai'}]</td>\n",
       "      <td>3.5</td>\n",
       "      <td>{'latitude': 47.662455, 'longitude': -122.3132...</td>\n",
       "      <td>[]</td>\n",
       "      <td>$</td>\n",
       "      <td>{'address1': '4543 University Way NE', 'addres...</td>\n",
       "      <td>+12065489548</td>\n",
       "      <td>(206) 548-9548</td>\n",
       "      <td>4442.467721</td>\n",
       "    </tr>\n",
       "    <tr>\n",
       "      <th>3</th>\n",
       "      <td>Wji3el2a4K7kD5jlMPxZOw</td>\n",
       "      <td>szechuan-chef-chinese-restaurant-bellevue</td>\n",
       "      <td>Szechuan Chef Chinese Restaurant</td>\n",
       "      <td>https://s3-media2.fl.yelpcdn.com/bphoto/AfFmzu...</td>\n",
       "      <td>False</td>\n",
       "      <td>https://www.yelp.com/biz/szechuan-chef-chinese...</td>\n",
       "      <td>574</td>\n",
       "      <td>[{'alias': 'szechuan', 'title': 'Szechuan'}, {...</td>\n",
       "      <td>3.5</td>\n",
       "      <td>{'latitude': 47.608709, 'longitude': -122.141472}</td>\n",
       "      <td>[delivery]</td>\n",
       "      <td>$$</td>\n",
       "      <td>{'address1': '15015 Main St', 'address2': 'Ste...</td>\n",
       "      <td>+14257469008</td>\n",
       "      <td>(425) 746-9008</td>\n",
       "      <td>14662.237495</td>\n",
       "    </tr>\n",
       "  </tbody>\n",
       "</table>\n",
       "</div>"
      ],
      "text/plain": [
       "                       id                                      alias  \\\n",
       "0  LDsQvhA_cuYZE7EFxVvOnA                           wann-yen-seattle   \n",
       "1  vh0UjgDhqJgK1yRacgpRzQ                      todo-mexico-shoreline   \n",
       "2  9YeSEzr8HZMCuQlAyr8FPw                           thai-tom-seattle   \n",
       "3  Wji3el2a4K7kD5jlMPxZOw  szechuan-chef-chinese-restaurant-bellevue   \n",
       "\n",
       "                               name  \\\n",
       "0                          Wann Yen   \n",
       "1                       Todo Mexico   \n",
       "2                          Thai Tom   \n",
       "3  Szechuan Chef Chinese Restaurant   \n",
       "\n",
       "                                           image_url  is_closed  \\\n",
       "0  https://s3-media1.fl.yelpcdn.com/bphoto/Ix-Z7h...      False   \n",
       "1  https://s3-media4.fl.yelpcdn.com/bphoto/GArHpq...      False   \n",
       "2  https://s3-media2.fl.yelpcdn.com/bphoto/XVx-o5...      False   \n",
       "3  https://s3-media2.fl.yelpcdn.com/bphoto/AfFmzu...      False   \n",
       "\n",
       "                                                 url  review_count  \\\n",
       "0  https://www.yelp.com/biz/wann-yen-seattle?adju...           143   \n",
       "1  https://www.yelp.com/biz/todo-mexico-shoreline...           144   \n",
       "2  https://www.yelp.com/biz/thai-tom-seattle?adju...          2231   \n",
       "3  https://www.yelp.com/biz/szechuan-chef-chinese...           574   \n",
       "\n",
       "                                          categories  rating  \\\n",
       "0  [{'alias': 'desserts', 'title': 'Desserts'}, {...     4.5   \n",
       "1         [{'alias': 'mexican', 'title': 'Mexican'}]     3.5   \n",
       "2               [{'alias': 'thai', 'title': 'Thai'}]     3.5   \n",
       "3  [{'alias': 'szechuan', 'title': 'Szechuan'}, {...     3.5   \n",
       "\n",
       "                                         coordinates        transactions  \\\n",
       "0    {'latitude': 47.65969, 'longitude': -122.31346}                  []   \n",
       "1    {'latitude': 47.77391, 'longitude': -122.30894}  [pickup, delivery]   \n",
       "2  {'latitude': 47.662455, 'longitude': -122.3132...                  []   \n",
       "3  {'latitude': 47.608709, 'longitude': -122.141472}          [delivery]   \n",
       "\n",
       "  price                                           location         phone  \\\n",
       "0     $  {'address1': '1313 NE 43rd St', 'address2': ''...  +12064325902   \n",
       "1    $$  {'address1': '19953 Ballinger Way NE', 'addres...  +12063635051   \n",
       "2     $  {'address1': '4543 University Way NE', 'addres...  +12065489548   \n",
       "3    $$  {'address1': '15015 Main St', 'address2': 'Ste...  +14257469008   \n",
       "\n",
       "    display_phone      distance  \n",
       "0  (206) 432-5902   4147.668325  \n",
       "1  (206) 363-5051  16631.635204  \n",
       "2  (206) 548-9548   4442.467721  \n",
       "3  (425) 746-9008  14662.237495  "
      ]
     },
     "execution_count": 5,
     "metadata": {},
     "output_type": "execute_result"
    }
   ],
   "source": [
    "import pandas as pd\n",
    "\n",
    "df = pd.DataFrame.from_dict(response.json()['businesses'])\n",
    "print(len(df)) #Print how many rows\n",
    "print(df.columns) #Print column names\n",
    "df.head() #Previews the first five rows. \n",
    "#You could also write df.head(10) to preview 10 rows or df.tail() to see the bottom"
   ]
  },
  {
   "cell_type": "code",
   "execution_count": 7,
   "metadata": {},
   "outputs": [
    {
     "ename": "SyntaxError",
     "evalue": "invalid syntax (<ipython-input-7-5122000ac8bc>, line 1)",
     "output_type": "error",
     "traceback": [
      "\u001b[1;36m  File \u001b[1;32m\"<ipython-input-7-5122000ac8bc>\"\u001b[1;36m, line \u001b[1;32m1\u001b[0m\n\u001b[1;33m    GET https://api.yelp.com/v3/businesses/wann-yen-seattle/reviews\u001b[0m\n\u001b[1;37m        ^\u001b[0m\n\u001b[1;31mSyntaxError\u001b[0m\u001b[1;31m:\u001b[0m invalid syntax\n"
     ]
    }
   ],
   "source": [
    "GET https://api.yelp.com/v3/businesses/wann-yen-seattle/reviews"
   ]
  },
  {
   "cell_type": "code",
   "execution_count": 9,
   "metadata": {},
   "outputs": [
    {
     "name": "stdout",
     "output_type": "stream",
     "text": [
      "<Response [400]>\n",
      "<class 'str'>\n",
      "{\"error\": {\"code\": \"VALIDATION_ERROR\", \"description\": \"Authorization is a required parameter.\", \"field\": \"Authorization\", \"instance\": null}}\n"
     ]
    }
   ],
   "source": [
    "response = requests.get('https://api.yelp.com/v3/businesses/wann-yen-seattle/reviews')\n",
    "print(response)\n",
    "print(type(response.text))\n",
    "print(response.text[:1000])"
   ]
  },
  {
   "cell_type": "code",
   "execution_count": null,
   "metadata": {},
   "outputs": [],
   "source": [
    "import requests\n",
    "term = 'restaurants'\n",
    "location = 'Seattle WA'\n",
    "SEARCH_LIMIT = 10\n",
    "\n",
    "url = 'https://api.yelp.com/v3/businesses/search'\n",
    "\n",
    "headers = {\n",
    "        'Authorization': 'Bearer {}'.format(api_key),\n",
    "    }\n",
    "\n",
    "url_params = {\n",
    "                'term': term.replace(' ', '+'),\n",
    "                'location': location.replace(' ', '+'),\n",
    "                'limit': SEARCH_LIMIT\n",
    "            }\n",
    "response = requests.get(url, headers=headers, params=url_params)\n",
    "print(response)\n",
    "print(type(response.text))\n",
    "print(response.text[:1000])"
   ]
  },
  {
   "cell_type": "code",
   "execution_count": null,
   "metadata": {},
   "outputs": [],
   "source": []
  }
 ],
 "metadata": {
  "kernelspec": {
   "display_name": "learn-env",
   "language": "python",
   "name": "learn-env"
  },
  "language_info": {
   "codemirror_mode": {
    "name": "ipython",
    "version": 3
   },
   "file_extension": ".py",
   "mimetype": "text/x-python",
   "name": "python",
   "nbconvert_exporter": "python",
   "pygments_lexer": "ipython3",
   "version": "3.8.5"
  }
 },
 "nbformat": 4,
 "nbformat_minor": 4
}
